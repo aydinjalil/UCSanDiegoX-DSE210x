{
 "cells": [
  {
   "cell_type": "markdown",
   "metadata": {},
   "source": [
    "Topic 3.1"
   ]
  },
  {
   "cell_type": "markdown",
   "metadata": {},
   "source": [
    "A square of an integer, for example, 0, 1, 4 and 9, is called a perfect square. How many perfect squares are  ≤100 ?"
   ]
  },
  {
   "cell_type": "code",
   "execution_count": 40,
   "metadata": {},
   "outputs": [],
   "source": [
    "import numpy as np"
   ]
  },
  {
   "cell_type": "code",
   "execution_count": 2,
   "metadata": {},
   "outputs": [
    {
     "name": "stdout",
     "output_type": "stream",
     "text": [
      "11\n"
     ]
    }
   ],
   "source": [
    "print(len(np.arange(0,11)**2))\n"
   ]
  },
  {
   "cell_type": "markdown",
   "metadata": {},
   "source": [
    "Topic 3.4\n",
    "\n",
    "How many positive divisors does 2016 have?"
   ]
  },
  {
   "cell_type": "code",
   "execution_count": 3,
   "metadata": {},
   "outputs": [],
   "source": [
    "numbers = np.arange(1,2017)"
   ]
  },
  {
   "cell_type": "code",
   "execution_count": 8,
   "metadata": {},
   "outputs": [],
   "source": [
    "_dict = {}\n",
    "for i in numbers:\n",
    "    if 2016%i == 0:\n",
    "        _dict[i] = 1"
   ]
  },
  {
   "cell_type": "code",
   "execution_count": 12,
   "metadata": {},
   "outputs": [
    {
     "data": {
      "text/plain": [
       "36"
      ]
     },
     "execution_count": 12,
     "metadata": {},
     "output_type": "execute_result"
    }
   ],
   "source": [
    "len(_dict)"
   ]
  },
  {
   "cell_type": "code",
   "execution_count": null,
   "metadata": {},
   "outputs": [],
   "source": [
    "def divisors(n):\n",
    "    return [d for d in np.arange(1, abs(n+1)) if n%d==0]\n",
    "d2016=len(divisors(2016)) #=36\n",
    "print([i for i in range(1, 2016) if len(divisors(i))>d2016])"
   ]
  },
  {
   "cell_type": "markdown",
   "metadata": {},
   "source": [
    "Topic 3.5 Quiz"
   ]
  },
  {
   "cell_type": "code",
   "execution_count": 1,
   "metadata": {},
   "outputs": [],
   "source": [
    "import math"
   ]
  },
  {
   "cell_type": "markdown",
   "metadata": {},
   "source": [
    "* Find the number of 7-character (capital letter or digit) license plates possible if:\n",
    "\n",
    "there are no further restrictions"
   ]
  },
  {
   "cell_type": "code",
   "execution_count": 10,
   "metadata": {},
   "outputs": [
    {
     "data": {
      "text/plain": [
       "78364164096.0"
      ]
     },
     "execution_count": 10,
     "metadata": {},
     "output_type": "execute_result"
    }
   ],
   "source": [
    "math.pow(36, 7)\n",
    "\n",
    "# Because 26 letters + 10 digits = 36"
   ]
  },
  {
   "cell_type": "markdown",
   "metadata": {},
   "source": [
    "* the first 3 characters are letters and the last 4 are numbers,"
   ]
  },
  {
   "cell_type": "code",
   "execution_count": 3,
   "metadata": {},
   "outputs": [
    {
     "data": {
      "text/plain": [
       "175760000.0"
      ]
     },
     "execution_count": 3,
     "metadata": {},
     "output_type": "execute_result"
    }
   ],
   "source": [
    "math.pow(26, 3) * math.pow(10, 4)"
   ]
  },
  {
   "cell_type": "markdown",
   "metadata": {},
   "source": [
    "* letters and numbers alternate, for example A3B5A7Q or 0Z3Q4Q9."
   ]
  },
  {
   "cell_type": "code",
   "execution_count": 4,
   "metadata": {},
   "outputs": [
    {
     "data": {
      "text/plain": [
       "632736000.0"
      ]
     },
     "execution_count": 4,
     "metadata": {},
     "output_type": "execute_result"
    }
   ],
   "source": [
    "math.pow(26, 3) * math.pow(10, 4) + math.pow(26, 4) * math.pow(10, 3)"
   ]
  },
  {
   "cell_type": "code",
   "execution_count": 11,
   "metadata": {},
   "outputs": [],
   "source": [
    "from itertools import product"
   ]
  },
  {
   "cell_type": "code",
   "execution_count": 35,
   "metadata": {},
   "outputs": [],
   "source": [
    "a = product({0,1}, repeat=5)"
   ]
  },
  {
   "cell_type": "code",
   "execution_count": 36,
   "metadata": {},
   "outputs": [
    {
     "data": {
      "text/plain": [
       "[(0, 0, 0, 0, 0),\n",
       " (0, 0, 0, 0, 1),\n",
       " (0, 0, 0, 1, 0),\n",
       " (0, 0, 0, 1, 1),\n",
       " (0, 0, 1, 0, 0),\n",
       " (0, 0, 1, 0, 1),\n",
       " (0, 0, 1, 1, 0),\n",
       " (0, 0, 1, 1, 1),\n",
       " (0, 1, 0, 0, 0),\n",
       " (0, 1, 0, 0, 1),\n",
       " (0, 1, 0, 1, 0),\n",
       " (0, 1, 0, 1, 1),\n",
       " (0, 1, 1, 0, 0),\n",
       " (0, 1, 1, 0, 1),\n",
       " (0, 1, 1, 1, 0),\n",
       " (0, 1, 1, 1, 1),\n",
       " (1, 0, 0, 0, 0),\n",
       " (1, 0, 0, 0, 1),\n",
       " (1, 0, 0, 1, 0),\n",
       " (1, 0, 0, 1, 1),\n",
       " (1, 0, 1, 0, 0),\n",
       " (1, 0, 1, 0, 1),\n",
       " (1, 0, 1, 1, 0),\n",
       " (1, 0, 1, 1, 1),\n",
       " (1, 1, 0, 0, 0),\n",
       " (1, 1, 0, 0, 1),\n",
       " (1, 1, 0, 1, 0),\n",
       " (1, 1, 0, 1, 1),\n",
       " (1, 1, 1, 0, 0),\n",
       " (1, 1, 1, 0, 1),\n",
       " (1, 1, 1, 1, 0),\n",
       " (1, 1, 1, 1, 1)]"
      ]
     },
     "execution_count": 36,
     "metadata": {},
     "output_type": "execute_result"
    }
   ],
   "source": [
    "[binary for binary in a]"
   ]
  },
  {
   "cell_type": "code",
   "execution_count": 37,
   "metadata": {},
   "outputs": [
    {
     "data": {
      "text/plain": [
       "512.0"
      ]
     },
     "execution_count": 37,
     "metadata": {},
     "output_type": "execute_result"
    }
   ],
   "source": [
    "math.pow(2,9)"
   ]
  },
  {
   "cell_type": "markdown",
   "metadata": {},
   "source": [
    "* How many subsets of  {1,2,…,9} \n",
    "are there, that contain \"1\""
   ]
  },
  {
   "cell_type": "code",
   "execution_count": 98,
   "metadata": {},
   "outputs": [],
   "source": [
    "import itertools\n",
    "subsets = itertools.product(np.arange(1,10), repeat=2)"
   ]
  },
  {
   "cell_type": "code",
   "execution_count": 99,
   "metadata": {},
   "outputs": [
    {
     "data": {
      "text/plain": [
       "81"
      ]
     },
     "execution_count": 99,
     "metadata": {},
     "output_type": "execute_result"
    }
   ],
   "source": [
    "len([i for i in subsets])"
   ]
  },
  {
   "cell_type": "code",
   "execution_count": 86,
   "metadata": {},
   "outputs": [
    {
     "data": {
      "text/plain": [
       "17"
      ]
     },
     "execution_count": 86,
     "metadata": {},
     "output_type": "execute_result"
    }
   ],
   "source": [
    "81 - len([i for i in np.arange(0,81) if 1 not in _sub_tuple[i]])"
   ]
  },
  {
   "cell_type": "code",
   "execution_count": 84,
   "metadata": {},
   "outputs": [
    {
     "data": {
      "text/plain": [
       "(4, 1)"
      ]
     },
     "execution_count": 84,
     "metadata": {},
     "output_type": "execute_result"
    }
   ],
   "source": [
    "_sub_tuple[27]"
   ]
  },
  {
   "cell_type": "code",
   "execution_count": 100,
   "metadata": {},
   "outputs": [
    {
     "data": {
      "text/plain": [
       "256.0"
      ]
     },
     "execution_count": 100,
     "metadata": {},
     "output_type": "execute_result"
    }
   ],
   "source": [
    "math.pow(2,8)"
   ]
  },
  {
   "cell_type": "code",
   "execution_count": null,
   "metadata": {},
   "outputs": [],
   "source": []
  }
 ],
 "metadata": {
  "kernelspec": {
   "display_name": "Python 3.7.5 64-bit ('python37': conda)",
   "language": "python",
   "name": "python37564bitpython37condae93ba7dd679f49659f306f287a61ed81"
  },
  "language_info": {
   "codemirror_mode": {
    "name": "ipython",
    "version": 3
   },
   "file_extension": ".py",
   "mimetype": "text/x-python",
   "name": "python",
   "nbconvert_exporter": "python",
   "pygments_lexer": "ipython3",
   "version": "3.7.5"
  }
 },
 "nbformat": 4,
 "nbformat_minor": 2
}
